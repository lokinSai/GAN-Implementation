{
  "nbformat": 4,
  "nbformat_minor": 0,
  "metadata": {
    "colab": {
      "name": "InfoGAN.ipynb",
      "provenance": [],
      "collapsed_sections": [],
      "toc_visible": true,
      "authorship_tag": "ABX9TyPiL6QGvrTQNac23yASnAUq",
      "include_colab_link": true
    },
    "kernelspec": {
      "name": "python3",
      "display_name": "Python 3"
    },
    "accelerator": "GPU"
  },
  "cells": [
    {
      "cell_type": "markdown",
      "metadata": {
        "id": "view-in-github",
        "colab_type": "text"
      },
      "source": [
        "<a href=\"https://colab.research.google.com/github/lokinSai/GAN-Implementation/blob/infoGAN/InfoGAN.ipynb\" target=\"_parent\"><img src=\"https://colab.research.google.com/assets/colab-badge.svg\" alt=\"Open In Colab\"/></a>"
      ]
    },
    {
      "cell_type": "markdown",
      "metadata": {
        "id": "6H4m3iSO7UWa",
        "colab_type": "text"
      },
      "source": [
        "# InfoGAN\n",
        "The reason we tried to implement InfoGAN is to solve two biggest weakness of traditional GAN:\n",
        "1.   Traditional GAN cannot control the image that one wish to generate.\n",
        "2.   Traditional GAN cannot produce diverse images.\n",
        "\n",
        "\n",
        "## Prerequisites:\n",
        "1.   path to image files\n",
        "2.   convert image files to h5 files\n",
        "\n"
      ]
    },
    {
      "cell_type": "markdown",
      "metadata": {
        "id": "b_s_t7CehpO-",
        "colab_type": "text"
      },
      "source": [
        "# Library Dependencies & Configuration"
      ]
    },
    {
      "cell_type": "code",
      "metadata": {
        "id": "8tRjkV-ThptT",
        "colab_type": "code",
        "colab": {}
      },
      "source": [
        "import os\n",
        "import time\n",
        "import h5py\n",
        "import functools\n",
        "from glob import glob\n",
        "from PIL import Image\n",
        "\n",
        "import tensorflow as tf\n",
        "import matplotlib.pyplot as plt\n",
        "import numpy as np\n",
        "from tensorflow import random_normal_initializer\n",
        "from tensorflow.keras.optimizers import Adam\n",
        "from tensorflow.keras import Input, Model, layers\n",
        "from tensorflow.keras.layers import Dense, LeakyReLU, BatchNormalization, \\\n",
        "    Conv2D, Conv2DTranspose, Reshape, Flatten, Dropout\n",
        "\n",
        "# Model Configuration\n",
        "buffer_size = 6000\n",
        "batch_size = 32\n",
        "epochs = 1000\n",
        "\n",
        "# Noise Configuration\n",
        "noise_dim = 100\n",
        "n_control_cat = 8\n",
        "\n",
        "# Dataset Configuration\n",
        "img_filename='cartoon_dataset.h5'\n",
        "img_key='cartoon'"
      ],
      "execution_count": 0,
      "outputs": []
    },
    {
      "cell_type": "markdown",
      "metadata": {
        "id": "eeaoTv629Std",
        "colab_type": "text"
      },
      "source": [
        "# Prepare Dataset\n",
        "\n",
        "1. Download Cartoon files from [Google Cartoon Dataset](https://google.github.io/cartoonset/)\n",
        "2. Unzip files and convert images to h5 file\n",
        "\n",
        "Here we will simply download from [google drive](https://drive.google.com/file/d/1ONB__BxV2uulKu6hvUFaWoNff6pwzQu0/view)"
      ]
    },
    {
      "cell_type": "markdown",
      "metadata": {
        "id": "tCvDaOmuhePB",
        "colab_type": "text"
      },
      "source": [
        "## Download Dataet from Google Drive"
      ]
    },
    {
      "cell_type": "code",
      "metadata": {
        "id": "-zrQ-3gaD6ce",
        "colab_type": "code",
        "colab": {
          "base_uri": "https://localhost:8080/",
          "height": 87
        },
        "outputId": "c8fdb5ea-74e3-44eb-a290-14abdeff8c52"
      },
      "source": [
        "!gdown --id 1ONB__BxV2uulKu6hvUFaWoNff6pwzQu0"
      ],
      "execution_count": 44,
      "outputs": [
        {
          "output_type": "stream",
          "text": [
            "Downloading...\n",
            "From: https://drive.google.com/uc?id=1ONB__BxV2uulKu6hvUFaWoNff6pwzQu0\n",
            "To: /content/cartoon_dataset.h5\n",
            "492MB [00:02, 228MB/s]\n"
          ],
          "name": "stdout"
        }
      ]
    },
    {
      "cell_type": "markdown",
      "metadata": {
        "id": "26Sx3O-0hidO",
        "colab_type": "text"
      },
      "source": [
        "## Load h5 images as Tensorflow Dataset"
      ]
    },
    {
      "cell_type": "code",
      "metadata": {
        "id": "syimjsSeh17h",
        "colab_type": "code",
        "colab": {}
      },
      "source": [
        "class Generator:\n",
        "    def __init__(self, filename, key):\n",
        "        self.filename = filename\n",
        "        self.key = key\n",
        "\n",
        "    def __call__(self):\n",
        "        with h5py.File(self.filename, 'r') as f:\n",
        "            for im in f[self.key]:\n",
        "                yield im\n",
        "\n",
        "class ImageUtil():\n",
        "    def __init__(self, filename, key):\n",
        "        self.filename = filename\n",
        "        self.key = key\n",
        "\n",
        "    def get_h5_images(self):\n",
        "        gen = Generator(self.filename, self.key)\n",
        "        dataset = tf.data.Dataset.from_generator(gen, tf.float32)\n",
        "        return dataset\n"
      ],
      "execution_count": 0,
      "outputs": []
    },
    {
      "cell_type": "code",
      "metadata": {
        "id": "22dZmmzHiqek",
        "colab_type": "code",
        "colab": {}
      },
      "source": [
        "train_dataset = ImageUtil(filename=img_filename, key=img_key).get_h5_images()\n",
        "train_dataset = train_dataset.shuffle(buffer_size).batch(batch_size)"
      ],
      "execution_count": 0,
      "outputs": []
    },
    {
      "cell_type": "markdown",
      "metadata": {
        "id": "-rfH0dIvFt34",
        "colab_type": "text"
      },
      "source": [
        "# InfoGAN Model Architecture"
      ]
    },
    {
      "cell_type": "markdown",
      "metadata": {
        "id": "3zg6g-G38hgm",
        "colab_type": "text"
      },
      "source": [
        "## Define Generator"
      ]
    },
    {
      "cell_type": "code",
      "metadata": {
        "id": "oQjHLsvL8j4Z",
        "colab_type": "code",
        "colab": {
          "base_uri": "https://localhost:8080/",
          "height": 621
        },
        "outputId": "8b11f76e-76fa-4325-91f5-65df12c9fba2"
      },
      "source": [
        "def make_generator_model():\n",
        "    # weight initialization\n",
        "    init = random_normal_initializer(stddev=0.02)\n",
        "    # image generator input\n",
        "    in_noise = Input(shape=(noise_dim + n_control_cat,))\n",
        "    gen = Dense(16*16*256, use_bias=False, kernel_initializer=init)(in_noise)\n",
        "    gen = BatchNormalization()(gen)\n",
        "    gen = LeakyReLU(alpha=0.1)(gen)\n",
        "    gen = Dropout(0.3)(gen)\n",
        "\n",
        "    gen = Reshape((16, 16, 256))(gen)\n",
        "\n",
        "    gen = Conv2DTranspose(128, (5, 5), strides=(1, 1), padding='same',\n",
        "        use_bias=False, kernel_initializer=init)(gen)\n",
        "    gen = BatchNormalization()(gen)\n",
        "    gen = LeakyReLU(alpha=0.1)(gen)\n",
        "\n",
        "    gen = Conv2DTranspose(64, (5, 5), strides=(2, 2), padding='same',\n",
        "        use_bias=False, kernel_initializer=init)(gen)\n",
        "    gen = BatchNormalization()(gen)\n",
        "    gen = LeakyReLU(alpha=0.1)(gen)\n",
        "\n",
        "    out_layer = Conv2DTranspose(3, (5, 5), strides=(2, 2), padding='same',\n",
        "        use_bias=False, kernel_initializer=init, activation='tanh')(gen)\n",
        "\n",
        "    model = Model(inputs=in_noise, outputs=out_layer)\n",
        "\n",
        "    return model\n",
        "\n",
        "g_model = make_generator_model()\n",
        "g_model.summary()"
      ],
      "execution_count": 47,
      "outputs": [
        {
          "output_type": "stream",
          "text": [
            "Model: \"model_4\"\n",
            "_________________________________________________________________\n",
            "Layer (type)                 Output Shape              Param #   \n",
            "=================================================================\n",
            "input_3 (InputLayer)         [(None, 108)]             0         \n",
            "_________________________________________________________________\n",
            "dense_4 (Dense)              (None, 65536)             7077888   \n",
            "_________________________________________________________________\n",
            "batch_normalization_4 (Batch (None, 65536)             262144    \n",
            "_________________________________________________________________\n",
            "leaky_re_lu_6 (LeakyReLU)    (None, 65536)             0         \n",
            "_________________________________________________________________\n",
            "dropout_3 (Dropout)          (None, 65536)             0         \n",
            "_________________________________________________________________\n",
            "reshape_1 (Reshape)          (None, 16, 16, 256)       0         \n",
            "_________________________________________________________________\n",
            "conv2d_transpose_3 (Conv2DTr (None, 16, 16, 128)       819200    \n",
            "_________________________________________________________________\n",
            "batch_normalization_5 (Batch (None, 16, 16, 128)       512       \n",
            "_________________________________________________________________\n",
            "leaky_re_lu_7 (LeakyReLU)    (None, 16, 16, 128)       0         \n",
            "_________________________________________________________________\n",
            "conv2d_transpose_4 (Conv2DTr (None, 32, 32, 64)        204800    \n",
            "_________________________________________________________________\n",
            "batch_normalization_6 (Batch (None, 32, 32, 64)        256       \n",
            "_________________________________________________________________\n",
            "leaky_re_lu_8 (LeakyReLU)    (None, 32, 32, 64)        0         \n",
            "_________________________________________________________________\n",
            "conv2d_transpose_5 (Conv2DTr (None, 64, 64, 3)         4800      \n",
            "=================================================================\n",
            "Total params: 8,369,600\n",
            "Trainable params: 8,238,144\n",
            "Non-trainable params: 131,456\n",
            "_________________________________________________________________\n"
          ],
          "name": "stdout"
        }
      ]
    },
    {
      "cell_type": "markdown",
      "metadata": {
        "id": "UiFi0dzKGSvx",
        "colab_type": "text"
      },
      "source": [
        "## Define Discriminator & Auxiliary model"
      ]
    },
    {
      "cell_type": "code",
      "metadata": {
        "id": "O9FW9qp7GU6C",
        "colab_type": "code",
        "colab": {
          "base_uri": "https://localhost:8080/",
          "height": 478
        },
        "outputId": "e6bce193-1bc7-4665-afdd-bcf6b8c34610"
      },
      "source": [
        "def make_discriminator_model():\n",
        "    init = tf.random_normal_initializer(stddev=0.02)\n",
        "\n",
        "    in_image = Input(shape=(64,64,3))\n",
        "    d = Conv2D(64, (5,5), strides=(2,2), padding='same', kernel_initializer=init)(in_image)\n",
        "    d = LeakyReLU(alpha=0.1)(d)\n",
        "    d = Dropout(0.3)(d)\n",
        "\n",
        "    d = Conv2D(128, (5,5), strides=(2,2), padding='same', kernel_initializer=init)(d)\n",
        "    d = LeakyReLU(alpha=0.1)(d)\n",
        "    d = Dropout(0.3)(d)\n",
        "\n",
        "    d = Flatten()(d)\n",
        "\n",
        "    out_classifier = Dense(1, activation='sigmoid')(d)\n",
        "\n",
        "    d_model = Model(inputs=in_image, outputs=out_classifier)\n",
        "    d_model.compile(loss='binary_crossentropy', optimizer=Adam(lr=0.0002, beta_1=0.5))\n",
        "\n",
        "    q = Dense(128)(d)\n",
        "    q = BatchNormalization()(q)\n",
        "    q = LeakyReLU(alpha=0.1)(q)\n",
        "    out_codes = Dense(n_control_cat, activation='softmax')(q)\n",
        "\n",
        "    q_model = Model(inputs=in_image, outputs=out_codes)\n",
        "\n",
        "    return d_model, q_model\n",
        "\n",
        "d_model, q_model = make_discriminator_model()\n",
        "d_model.summary()"
      ],
      "execution_count": 48,
      "outputs": [
        {
          "output_type": "stream",
          "text": [
            "Model: \"model_5\"\n",
            "_________________________________________________________________\n",
            "Layer (type)                 Output Shape              Param #   \n",
            "=================================================================\n",
            "input_4 (InputLayer)         [(None, 64, 64, 3)]       0         \n",
            "_________________________________________________________________\n",
            "conv2d_2 (Conv2D)            (None, 32, 32, 64)        4864      \n",
            "_________________________________________________________________\n",
            "leaky_re_lu_9 (LeakyReLU)    (None, 32, 32, 64)        0         \n",
            "_________________________________________________________________\n",
            "dropout_4 (Dropout)          (None, 32, 32, 64)        0         \n",
            "_________________________________________________________________\n",
            "conv2d_3 (Conv2D)            (None, 16, 16, 128)       204928    \n",
            "_________________________________________________________________\n",
            "leaky_re_lu_10 (LeakyReLU)   (None, 16, 16, 128)       0         \n",
            "_________________________________________________________________\n",
            "dropout_5 (Dropout)          (None, 16, 16, 128)       0         \n",
            "_________________________________________________________________\n",
            "flatten_1 (Flatten)          (None, 32768)             0         \n",
            "_________________________________________________________________\n",
            "dense_5 (Dense)              (None, 1)                 32769     \n",
            "=================================================================\n",
            "Total params: 242,561\n",
            "Trainable params: 242,561\n",
            "Non-trainable params: 0\n",
            "_________________________________________________________________\n"
          ],
          "name": "stdout"
        }
      ]
    },
    {
      "cell_type": "markdown",
      "metadata": {
        "id": "7ts9mSfqHen1",
        "colab_type": "text"
      },
      "source": [
        "## Combine GAN Model\n",
        "\n",
        "Discriminator model train on its own. \\\\\n",
        "Generator and Auxiliary model train together."
      ]
    },
    {
      "cell_type": "code",
      "metadata": {
        "id": "30Vmb_6iHpg2",
        "colab_type": "code",
        "colab": {
          "base_uri": "https://localhost:8080/",
          "height": 692
        },
        "outputId": "b04857f1-338a-48fb-9bfd-c523d1bbd13d"
      },
      "source": [
        "def make_gan_model(g_model, d_model, q_model):\n",
        "    # make weights in the discriminator (some shared with the q model) as not trainable\n",
        "    d_model.trainable = False\n",
        "    # connect g outputs to d inputs\n",
        "    d_output = d_model(g_model.output)\n",
        "    # connect g outputs to q inputs\n",
        "    q_output = q_model(g_model.output)\n",
        "    # define composite model\n",
        "    model = Model(inputs=g_model.input, outputs=[d_output, q_output])\n",
        "    # compile model\n",
        "    opt = Adam(lr=0.0002, beta_1=0.5)\n",
        "    model.compile(loss=['binary_crossentropy', 'categorical_crossentropy'], optimizer=opt)\n",
        "    return model\n",
        "\n",
        "gan_model = make_gan_model(g_model, d_model, q_model)\n",
        "gan_model.summary()"
      ],
      "execution_count": 49,
      "outputs": [
        {
          "output_type": "stream",
          "text": [
            "Model: \"model_7\"\n",
            "__________________________________________________________________________________________________\n",
            "Layer (type)                    Output Shape         Param #     Connected to                     \n",
            "==================================================================================================\n",
            "input_3 (InputLayer)            [(None, 108)]        0                                            \n",
            "__________________________________________________________________________________________________\n",
            "dense_4 (Dense)                 (None, 65536)        7077888     input_3[0][0]                    \n",
            "__________________________________________________________________________________________________\n",
            "batch_normalization_4 (BatchNor (None, 65536)        262144      dense_4[0][0]                    \n",
            "__________________________________________________________________________________________________\n",
            "leaky_re_lu_6 (LeakyReLU)       (None, 65536)        0           batch_normalization_4[0][0]      \n",
            "__________________________________________________________________________________________________\n",
            "dropout_3 (Dropout)             (None, 65536)        0           leaky_re_lu_6[0][0]              \n",
            "__________________________________________________________________________________________________\n",
            "reshape_1 (Reshape)             (None, 16, 16, 256)  0           dropout_3[0][0]                  \n",
            "__________________________________________________________________________________________________\n",
            "conv2d_transpose_3 (Conv2DTrans (None, 16, 16, 128)  819200      reshape_1[0][0]                  \n",
            "__________________________________________________________________________________________________\n",
            "batch_normalization_5 (BatchNor (None, 16, 16, 128)  512         conv2d_transpose_3[0][0]         \n",
            "__________________________________________________________________________________________________\n",
            "leaky_re_lu_7 (LeakyReLU)       (None, 16, 16, 128)  0           batch_normalization_5[0][0]      \n",
            "__________________________________________________________________________________________________\n",
            "conv2d_transpose_4 (Conv2DTrans (None, 32, 32, 64)   204800      leaky_re_lu_7[0][0]              \n",
            "__________________________________________________________________________________________________\n",
            "batch_normalization_6 (BatchNor (None, 32, 32, 64)   256         conv2d_transpose_4[0][0]         \n",
            "__________________________________________________________________________________________________\n",
            "leaky_re_lu_8 (LeakyReLU)       (None, 32, 32, 64)   0           batch_normalization_6[0][0]      \n",
            "__________________________________________________________________________________________________\n",
            "conv2d_transpose_5 (Conv2DTrans (None, 64, 64, 3)    4800        leaky_re_lu_8[0][0]              \n",
            "__________________________________________________________________________________________________\n",
            "model_5 (Model)                 (None, 1)            242561      conv2d_transpose_5[0][0]         \n",
            "__________________________________________________________________________________________________\n",
            "model_6 (Model)                 (None, 8)            4405768     conv2d_transpose_5[0][0]         \n",
            "==================================================================================================\n",
            "Total params: 12,808,137\n",
            "Trainable params: 12,433,864\n",
            "Non-trainable params: 374,273\n",
            "__________________________________________________________________________________________________\n"
          ],
          "name": "stdout"
        }
      ]
    },
    {
      "cell_type": "markdown",
      "metadata": {
        "id": "5kDmIRbNIAZo",
        "colab_type": "text"
      },
      "source": [
        "# Training Steps"
      ]
    },
    {
      "cell_type": "markdown",
      "metadata": {
        "id": "6fHjLwbwfJ2u",
        "colab_type": "text"
      },
      "source": [
        "## Noise Generator\n",
        "\n",
        "Generate Gaussian noise and categories as input for generator"
      ]
    },
    {
      "cell_type": "code",
      "metadata": {
        "id": "gX-m1ScMIEK0",
        "colab_type": "code",
        "colab": {}
      },
      "source": [
        "def generate_noise_and_control():\n",
        "    noise = tf.random.normal([batch_size, noise_dim])\n",
        "    rand_cat = np.random.randint(0, n_control_cat, size=batch_size)\n",
        "    control_cat = tf.keras.utils.to_categorical(rand_cat, num_classes=n_control_cat)\n",
        "    noise = tf.concat([noise, control_cat], axis=1)\n",
        "    return noise, control_cat"
      ],
      "execution_count": 0,
      "outputs": []
    },
    {
      "cell_type": "markdown",
      "metadata": {
        "id": "uxiQla0Cfmth",
        "colab_type": "text"
      },
      "source": [
        "## Training per step"
      ]
    },
    {
      "cell_type": "code",
      "metadata": {
        "id": "tQuKPi8YfolI",
        "colab_type": "code",
        "colab": {}
      },
      "source": [
        "def infoGan_train_step(images, g_model, d_model, gan_model):\n",
        "    noise, control_cat = generate_noise_and_control()\n",
        "\n",
        "    d_loss_true = d_model.train_on_batch(images, np.ones((batch_size, 1)))\n",
        "\n",
        "    generated_images = g_model.predict(noise)\n",
        "    d_loss_fake = d_model.train_on_batch(generated_images, np.zeros((batch_size, 1)))\n",
        "\n",
        "    # inverted labels for fake images\n",
        "    # train g_model & q_model at the same time\n",
        "    _, g_1, g_2 = gan_model.train_on_batch(noise, [np.ones((batch_size, 1)), control_cat])\n",
        "    return d_loss_true, d_loss_fake, g_1, g_2"
      ],
      "execution_count": 0,
      "outputs": []
    },
    {
      "cell_type": "markdown",
      "metadata": {
        "id": "p00jjCrEf2rF",
        "colab_type": "text"
      },
      "source": [
        "# Image Helper\n",
        "\n",
        "Generate images after n epochs to show the training progress. This class will generate n_sample for each category."
      ]
    },
    {
      "cell_type": "code",
      "metadata": {
        "id": "68bIkmq2f_Zl",
        "colab_type": "code",
        "colab": {}
      },
      "source": [
        "class ImageHelper():\n",
        "    def __init__(self, noise_dim, num_examples_to_generate=16, img_dir='images'):\n",
        "        try:\n",
        "            os.mkdir(img_dir)\n",
        "        except OSError as error:\n",
        "            pass\n",
        "        self.img_dir = img_dir\n",
        "        self.num_examples_to_generate = num_examples_to_generate\n",
        "        self.noise_dim = noise_dim\n",
        "        self.seed = tf.random.normal([num_examples_to_generate, noise_dim])\n",
        "\n",
        "    def _generate_noise_and_control(self, n_control_cat, n_sample_per_category):\n",
        "        noise = tf.random.normal([n_sample_per_category, self.noise_dim])\n",
        "        # repeat same noise for each control category\n",
        "        noise = tf.concat([noise for _ in range(n_control_cat)], axis=0)\n",
        "        # generate images for each control category\n",
        "        rand_cat = []\n",
        "        for cat in range(n_control_cat):\n",
        "            rand_cat.extend([cat for _ in range(n_sample_per_category)])\n",
        "        control_cat = tf.keras.utils.to_categorical(rand_cat, num_classes=n_control_cat)\n",
        "        noise = tf.concat([noise, control_cat], axis=1)\n",
        "        return noise\n",
        "\n",
        "    def generate_and_save_images_control_cat(self, model, epoch, n_control_cat, n_sample_per_category=4):\n",
        "        predictions = model.predict(\n",
        "            self._generate_noise_and_control(n_control_cat, n_sample_per_category))\n",
        "        fig = plt.figure(figsize=(n_control_cat, n_sample_per_category))\n",
        "\n",
        "        for i in range(predictions.shape[0]):\n",
        "            plt.subplot(n_control_cat, n_sample_per_category, i+1)\n",
        "            plt.imshow((predictions[i, :, :, :] + 1) / 2.0)\n",
        "            plt.axis('off')\n",
        "\n",
        "        plt.savefig('{}/image_at_epoch_{:04d}.png'.format(self.img_dir, epoch))\n",
        "        plt.show"
      ],
      "execution_count": 0,
      "outputs": []
    },
    {
      "cell_type": "markdown",
      "metadata": {
        "id": "W-ZOuHXufwaH",
        "colab_type": "text"
      },
      "source": [
        "# Train Runner"
      ]
    },
    {
      "cell_type": "code",
      "metadata": {
        "id": "QNSzqRb8fzv_",
        "colab_type": "code",
        "colab": {
          "base_uri": "https://localhost:8080/",
          "height": 965
        },
        "outputId": "001acda1-3f3f-48db-9c63-344643fc63f8"
      },
      "source": [
        "image_helper = ImageHelper(noise_dim=noise_dim)\n",
        "\n",
        "for epoch in range(epochs):\n",
        "    start = time.time()\n",
        "    for image_batch in train_dataset:\n",
        "        if image_batch.shape[0] < batch_size:\n",
        "            break\n",
        "        infoGan_train_step(image_batch, g_model, d_model, gan_model)\n",
        "\n",
        "    if (epoch + 1) % 10 == 0:\n",
        "        image_helper.generate_and_save_images_control_cat(g_model, epoch+1, n_control_cat)\n",
        "\n",
        "    print('Time for epoch {} is {} sec'.format(epoch + 1, time.time()-start))\n",
        "\n",
        "# Generate after the final epoch\n",
        "image_helper.generate_and_save_images_control_cat(g_model, epochs, n_control_cat)\n"
      ],
      "execution_count": 61,
      "outputs": [
        {
          "output_type": "stream",
          "text": [
            "Time for epoch 1 is 24.507009983062744 sec\n",
            "Time for epoch 2 is 24.734885215759277 sec\n",
            "Time for epoch 3 is 24.68411087989807 sec\n",
            "Time for epoch 4 is 24.739694833755493 sec\n",
            "Time for epoch 5 is 24.616124391555786 sec\n",
            "Time for epoch 6 is 24.812260627746582 sec\n",
            "Time for epoch 7 is 24.62589406967163 sec\n",
            "Time for epoch 8 is 24.57026982307434 sec\n",
            "Time for epoch 9 is 24.982121467590332 sec\n",
            "Time for epoch 10 is 25.038282871246338 sec\n",
            "Time for epoch 11 is 24.73555636405945 sec\n",
            "Time for epoch 12 is 24.711278915405273 sec\n",
            "Time for epoch 13 is 24.686784029006958 sec\n",
            "Time for epoch 14 is 24.758962154388428 sec\n",
            "Time for epoch 15 is 25.10658359527588 sec\n",
            "Time for epoch 16 is 25.284248113632202 sec\n",
            "Time for epoch 17 is 25.514220476150513 sec\n",
            "Time for epoch 18 is 24.9274582862854 sec\n"
          ],
          "name": "stdout"
        },
        {
          "output_type": "error",
          "ename": "KeyboardInterrupt",
          "evalue": "ignored",
          "traceback": [
            "\u001b[0;31m---------------------------------------------------------------------------\u001b[0m",
            "\u001b[0;31mKeyboardInterrupt\u001b[0m                         Traceback (most recent call last)",
            "\u001b[0;32m<ipython-input-61-900a98dc3d4b>\u001b[0m in \u001b[0;36m<module>\u001b[0;34m()\u001b[0m\n\u001b[1;32m      6\u001b[0m         \u001b[0;32mif\u001b[0m \u001b[0mimage_batch\u001b[0m\u001b[0;34m.\u001b[0m\u001b[0mshape\u001b[0m\u001b[0;34m[\u001b[0m\u001b[0;36m0\u001b[0m\u001b[0;34m]\u001b[0m \u001b[0;34m<\u001b[0m \u001b[0mbatch_size\u001b[0m\u001b[0;34m:\u001b[0m\u001b[0;34m\u001b[0m\u001b[0;34m\u001b[0m\u001b[0m\n\u001b[1;32m      7\u001b[0m             \u001b[0;32mbreak\u001b[0m\u001b[0;34m\u001b[0m\u001b[0;34m\u001b[0m\u001b[0m\n\u001b[0;32m----> 8\u001b[0;31m         \u001b[0minfoGan_train_step\u001b[0m\u001b[0;34m(\u001b[0m\u001b[0mimage_batch\u001b[0m\u001b[0;34m,\u001b[0m \u001b[0mg_model\u001b[0m\u001b[0;34m,\u001b[0m \u001b[0md_model\u001b[0m\u001b[0;34m,\u001b[0m \u001b[0mgan_model\u001b[0m\u001b[0;34m)\u001b[0m\u001b[0;34m\u001b[0m\u001b[0;34m\u001b[0m\u001b[0m\n\u001b[0m\u001b[1;32m      9\u001b[0m \u001b[0;34m\u001b[0m\u001b[0m\n\u001b[1;32m     10\u001b[0m     \u001b[0;32mif\u001b[0m \u001b[0;34m(\u001b[0m\u001b[0mepoch\u001b[0m \u001b[0;34m+\u001b[0m \u001b[0;36m1\u001b[0m\u001b[0;34m)\u001b[0m \u001b[0;34m%\u001b[0m \u001b[0;36m10\u001b[0m \u001b[0;34m==\u001b[0m \u001b[0;36m0\u001b[0m\u001b[0;34m:\u001b[0m\u001b[0;34m\u001b[0m\u001b[0;34m\u001b[0m\u001b[0m\n",
            "\u001b[0;32m<ipython-input-51-74565e3e6eae>\u001b[0m in \u001b[0;36minfoGan_train_step\u001b[0;34m(images, g_model, d_model, gan_model)\u001b[0m\n\u001b[1;32m      9\u001b[0m     \u001b[0;31m# inverted labels for fake images\u001b[0m\u001b[0;34m\u001b[0m\u001b[0;34m\u001b[0m\u001b[0;34m\u001b[0m\u001b[0m\n\u001b[1;32m     10\u001b[0m     \u001b[0;31m# train g_model & q_model at the same time\u001b[0m\u001b[0;34m\u001b[0m\u001b[0;34m\u001b[0m\u001b[0;34m\u001b[0m\u001b[0m\n\u001b[0;32m---> 11\u001b[0;31m     \u001b[0m_\u001b[0m\u001b[0;34m,\u001b[0m \u001b[0mg_1\u001b[0m\u001b[0;34m,\u001b[0m \u001b[0mg_2\u001b[0m \u001b[0;34m=\u001b[0m \u001b[0mgan_model\u001b[0m\u001b[0;34m.\u001b[0m\u001b[0mtrain_on_batch\u001b[0m\u001b[0;34m(\u001b[0m\u001b[0mnoise\u001b[0m\u001b[0;34m,\u001b[0m \u001b[0;34m[\u001b[0m\u001b[0mnp\u001b[0m\u001b[0;34m.\u001b[0m\u001b[0mones\u001b[0m\u001b[0;34m(\u001b[0m\u001b[0;34m(\u001b[0m\u001b[0mbatch_size\u001b[0m\u001b[0;34m,\u001b[0m \u001b[0;36m1\u001b[0m\u001b[0;34m)\u001b[0m\u001b[0;34m)\u001b[0m\u001b[0;34m,\u001b[0m \u001b[0mcontrol_cat\u001b[0m\u001b[0;34m]\u001b[0m\u001b[0;34m)\u001b[0m\u001b[0;34m\u001b[0m\u001b[0;34m\u001b[0m\u001b[0m\n\u001b[0m\u001b[1;32m     12\u001b[0m     \u001b[0;32mreturn\u001b[0m \u001b[0md_loss_true\u001b[0m\u001b[0;34m,\u001b[0m \u001b[0md_loss_fake\u001b[0m\u001b[0;34m,\u001b[0m \u001b[0mg_1\u001b[0m\u001b[0;34m,\u001b[0m \u001b[0mg_2\u001b[0m\u001b[0;34m\u001b[0m\u001b[0;34m\u001b[0m\u001b[0m\n",
            "\u001b[0;32m/usr/local/lib/python3.6/dist-packages/tensorflow/python/keras/engine/training.py\u001b[0m in \u001b[0;36mtrain_on_batch\u001b[0;34m(self, x, y, sample_weight, class_weight, reset_metrics, return_dict)\u001b[0m\n\u001b[1;32m   1352\u001b[0m \u001b[0;34m\u001b[0m\u001b[0m\n\u001b[1;32m   1353\u001b[0m     \u001b[0;32mif\u001b[0m \u001b[0mreset_metrics\u001b[0m\u001b[0;34m:\u001b[0m\u001b[0;34m\u001b[0m\u001b[0;34m\u001b[0m\u001b[0m\n\u001b[0;32m-> 1354\u001b[0;31m       \u001b[0mself\u001b[0m\u001b[0;34m.\u001b[0m\u001b[0mreset_metrics\u001b[0m\u001b[0;34m(\u001b[0m\u001b[0;34m)\u001b[0m\u001b[0;34m\u001b[0m\u001b[0;34m\u001b[0m\u001b[0m\n\u001b[0m\u001b[1;32m   1355\u001b[0m     \u001b[0mlogs\u001b[0m \u001b[0;34m=\u001b[0m \u001b[0mtf_utils\u001b[0m\u001b[0;34m.\u001b[0m\u001b[0mto_numpy_or_python_type\u001b[0m\u001b[0;34m(\u001b[0m\u001b[0mlogs\u001b[0m\u001b[0;34m)\u001b[0m\u001b[0;34m\u001b[0m\u001b[0;34m\u001b[0m\u001b[0m\n\u001b[1;32m   1356\u001b[0m     \u001b[0;32mif\u001b[0m \u001b[0mreturn_dict\u001b[0m\u001b[0;34m:\u001b[0m\u001b[0;34m\u001b[0m\u001b[0;34m\u001b[0m\u001b[0m\n",
            "\u001b[0;32m/usr/local/lib/python3.6/dist-packages/tensorflow/python/keras/engine/training.py\u001b[0m in \u001b[0;36mreset_metrics\u001b[0;34m(self)\u001b[0m\n\u001b[1;32m   1292\u001b[0m     \u001b[0;34m\"\"\"Resets the state of metrics.\"\"\"\u001b[0m\u001b[0;34m\u001b[0m\u001b[0;34m\u001b[0m\u001b[0m\n\u001b[1;32m   1293\u001b[0m     \u001b[0;32mfor\u001b[0m \u001b[0mm\u001b[0m \u001b[0;32min\u001b[0m \u001b[0mself\u001b[0m\u001b[0;34m.\u001b[0m\u001b[0mmetrics\u001b[0m\u001b[0;34m:\u001b[0m\u001b[0;34m\u001b[0m\u001b[0;34m\u001b[0m\u001b[0m\n\u001b[0;32m-> 1294\u001b[0;31m       \u001b[0mm\u001b[0m\u001b[0;34m.\u001b[0m\u001b[0mreset_states\u001b[0m\u001b[0;34m(\u001b[0m\u001b[0;34m)\u001b[0m\u001b[0;34m\u001b[0m\u001b[0;34m\u001b[0m\u001b[0m\n\u001b[0m\u001b[1;32m   1295\u001b[0m \u001b[0;34m\u001b[0m\u001b[0m\n\u001b[1;32m   1296\u001b[0m   def train_on_batch(self,\n",
            "\u001b[0;32m/usr/local/lib/python3.6/dist-packages/tensorflow/python/keras/metrics.py\u001b[0m in \u001b[0;36mreset_states\u001b[0;34m(self)\u001b[0m\n\u001b[1;32m    222\u001b[0m     \u001b[0mwhen\u001b[0m \u001b[0ma\u001b[0m \u001b[0mmetric\u001b[0m \u001b[0;32mis\u001b[0m \u001b[0mevaluated\u001b[0m \u001b[0mduring\u001b[0m \u001b[0mtraining\u001b[0m\u001b[0;34m.\u001b[0m\u001b[0;34m\u001b[0m\u001b[0;34m\u001b[0m\u001b[0m\n\u001b[1;32m    223\u001b[0m     \"\"\"\n\u001b[0;32m--> 224\u001b[0;31m     \u001b[0mK\u001b[0m\u001b[0;34m.\u001b[0m\u001b[0mbatch_set_value\u001b[0m\u001b[0;34m(\u001b[0m\u001b[0;34m[\u001b[0m\u001b[0;34m(\u001b[0m\u001b[0mv\u001b[0m\u001b[0;34m,\u001b[0m \u001b[0;36m0\u001b[0m\u001b[0;34m)\u001b[0m \u001b[0;32mfor\u001b[0m \u001b[0mv\u001b[0m \u001b[0;32min\u001b[0m \u001b[0mself\u001b[0m\u001b[0;34m.\u001b[0m\u001b[0mvariables\u001b[0m\u001b[0;34m]\u001b[0m\u001b[0;34m)\u001b[0m\u001b[0;34m\u001b[0m\u001b[0;34m\u001b[0m\u001b[0m\n\u001b[0m\u001b[1;32m    225\u001b[0m \u001b[0;34m\u001b[0m\u001b[0m\n\u001b[1;32m    226\u001b[0m   \u001b[0;34m@\u001b[0m\u001b[0mabc\u001b[0m\u001b[0;34m.\u001b[0m\u001b[0mabstractmethod\u001b[0m\u001b[0;34m\u001b[0m\u001b[0;34m\u001b[0m\u001b[0m\n",
            "\u001b[0;32m/usr/local/lib/python3.6/dist-packages/tensorflow/python/keras/backend.py\u001b[0m in \u001b[0;36mbatch_set_value\u001b[0;34m(tuples)\u001b[0m\n\u001b[1;32m   3382\u001b[0m   \u001b[0;32mif\u001b[0m \u001b[0mops\u001b[0m\u001b[0;34m.\u001b[0m\u001b[0mexecuting_eagerly_outside_functions\u001b[0m\u001b[0;34m(\u001b[0m\u001b[0;34m)\u001b[0m\u001b[0;34m:\u001b[0m\u001b[0;34m\u001b[0m\u001b[0;34m\u001b[0m\u001b[0m\n\u001b[1;32m   3383\u001b[0m     \u001b[0;32mfor\u001b[0m \u001b[0mx\u001b[0m\u001b[0;34m,\u001b[0m \u001b[0mvalue\u001b[0m \u001b[0;32min\u001b[0m \u001b[0mtuples\u001b[0m\u001b[0;34m:\u001b[0m\u001b[0;34m\u001b[0m\u001b[0;34m\u001b[0m\u001b[0m\n\u001b[0;32m-> 3384\u001b[0;31m       \u001b[0mx\u001b[0m\u001b[0;34m.\u001b[0m\u001b[0massign\u001b[0m\u001b[0;34m(\u001b[0m\u001b[0mnp\u001b[0m\u001b[0;34m.\u001b[0m\u001b[0masarray\u001b[0m\u001b[0;34m(\u001b[0m\u001b[0mvalue\u001b[0m\u001b[0;34m,\u001b[0m \u001b[0mdtype\u001b[0m\u001b[0;34m=\u001b[0m\u001b[0mdtype\u001b[0m\u001b[0;34m(\u001b[0m\u001b[0mx\u001b[0m\u001b[0;34m)\u001b[0m\u001b[0;34m)\u001b[0m\u001b[0;34m)\u001b[0m\u001b[0;34m\u001b[0m\u001b[0;34m\u001b[0m\u001b[0m\n\u001b[0m\u001b[1;32m   3385\u001b[0m   \u001b[0;32melse\u001b[0m\u001b[0;34m:\u001b[0m\u001b[0;34m\u001b[0m\u001b[0;34m\u001b[0m\u001b[0m\n\u001b[1;32m   3386\u001b[0m     \u001b[0;32mwith\u001b[0m \u001b[0mget_graph\u001b[0m\u001b[0;34m(\u001b[0m\u001b[0;34m)\u001b[0m\u001b[0;34m.\u001b[0m\u001b[0mas_default\u001b[0m\u001b[0;34m(\u001b[0m\u001b[0;34m)\u001b[0m\u001b[0;34m:\u001b[0m\u001b[0;34m\u001b[0m\u001b[0;34m\u001b[0m\u001b[0m\n",
            "\u001b[0;32m/usr/local/lib/python3.6/dist-packages/tensorflow/python/ops/resource_variable_ops.py\u001b[0m in \u001b[0;36massign\u001b[0;34m(self, value, use_locking, name, read_value)\u001b[0m\n\u001b[1;32m    846\u001b[0m       \u001b[0mself\u001b[0m\u001b[0;34m.\u001b[0m\u001b[0m_shape\u001b[0m\u001b[0;34m.\u001b[0m\u001b[0massert_is_compatible_with\u001b[0m\u001b[0;34m(\u001b[0m\u001b[0mvalue_tensor\u001b[0m\u001b[0;34m.\u001b[0m\u001b[0mshape\u001b[0m\u001b[0;34m)\u001b[0m\u001b[0;34m\u001b[0m\u001b[0;34m\u001b[0m\u001b[0m\n\u001b[1;32m    847\u001b[0m       assign_op = gen_resource_variable_ops.assign_variable_op(\n\u001b[0;32m--> 848\u001b[0;31m           self.handle, value_tensor, name=name)\n\u001b[0m\u001b[1;32m    849\u001b[0m       \u001b[0;32mif\u001b[0m \u001b[0mread_value\u001b[0m\u001b[0;34m:\u001b[0m\u001b[0;34m\u001b[0m\u001b[0;34m\u001b[0m\u001b[0m\n\u001b[1;32m    850\u001b[0m         \u001b[0;32mreturn\u001b[0m \u001b[0mself\u001b[0m\u001b[0;34m.\u001b[0m\u001b[0m_lazy_read\u001b[0m\u001b[0;34m(\u001b[0m\u001b[0massign_op\u001b[0m\u001b[0;34m)\u001b[0m\u001b[0;34m\u001b[0m\u001b[0;34m\u001b[0m\u001b[0m\n",
            "\u001b[0;32m/usr/local/lib/python3.6/dist-packages/tensorflow/python/ops/gen_resource_variable_ops.py\u001b[0m in \u001b[0;36massign_variable_op\u001b[0;34m(resource, value, name)\u001b[0m\n\u001b[1;32m    140\u001b[0m       _result = pywrap_tfe.TFE_Py_FastPathExecute(\n\u001b[1;32m    141\u001b[0m         \u001b[0m_ctx\u001b[0m\u001b[0;34m.\u001b[0m\u001b[0m_context_handle\u001b[0m\u001b[0;34m,\u001b[0m \u001b[0mtld\u001b[0m\u001b[0;34m.\u001b[0m\u001b[0mdevice_name\u001b[0m\u001b[0;34m,\u001b[0m \u001b[0;34m\"AssignVariableOp\"\u001b[0m\u001b[0;34m,\u001b[0m \u001b[0mname\u001b[0m\u001b[0;34m,\u001b[0m\u001b[0;34m\u001b[0m\u001b[0;34m\u001b[0m\u001b[0m\n\u001b[0;32m--> 142\u001b[0;31m         tld.op_callbacks, resource, value)\n\u001b[0m\u001b[1;32m    143\u001b[0m       \u001b[0;32mreturn\u001b[0m \u001b[0m_result\u001b[0m\u001b[0;34m\u001b[0m\u001b[0;34m\u001b[0m\u001b[0m\n\u001b[1;32m    144\u001b[0m     \u001b[0;32mexcept\u001b[0m \u001b[0m_core\u001b[0m\u001b[0;34m.\u001b[0m\u001b[0m_FallbackException\u001b[0m\u001b[0;34m:\u001b[0m\u001b[0;34m\u001b[0m\u001b[0;34m\u001b[0m\u001b[0m\n",
            "\u001b[0;31mKeyboardInterrupt\u001b[0m: "
          ]
        },
        {
          "output_type": "display_data",
          "data": {
            "image/png": "[encoded data removed]",
            "text/plain": [
              "<Figure size 576x288 with 32 Axes>"
            ]
          },
          "metadata": {
            "tags": [],
            "needs_background": "light"
          }
        }
      ]
    },
    {
      "cell_type": "code",
      "metadata": {
        "id": "zeuFKOnujhTP",
        "colab_type": "code",
        "colab": {}
      },
      "source": [
        ""
      ],
      "execution_count": 0,
      "outputs": []
    }
  ]
}